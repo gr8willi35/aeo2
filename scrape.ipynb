{
 "cells": [
  {
   "cell_type": "code",
   "execution_count": 43,
   "source": [
    "import requests\n",
    "from bs4 import BeautifulSoup as bs\n",
    "from pymongo import MongoClient\n",
    "from time import sleep\n",
    "import pandas as pd\n",
    "from selenium import webdriver\n",
    "from selenium.webdriver.common.by import By"
   ],
   "outputs": [],
   "metadata": {}
  },
  {
   "cell_type": "code",
   "execution_count": 44,
   "source": [
    "client = MongoClient('localhost', 27017)\n",
    "db = client['aoe2']\n",
    "coll = db['games']"
   ],
   "outputs": [],
   "metadata": {}
  },
  {
   "cell_type": "code",
   "execution_count": 45,
   "source": [
    "driver = webdriver.Remote(\n",
    "    command_executor='http://localhost:4444/wd/hub',\n",
    "    desired_capabilities={\n",
    "        'browserName':'firefox',\n",
    "        'javascriptEnabled': True\n",
    "    }\n",
    ")\n",
    "url = 'https://aoe2.net/#aoe2de-matches-ongoing'"
   ],
   "outputs": [],
   "metadata": {}
  },
  {
   "cell_type": "code",
   "execution_count": 46,
   "source": [
    "driver.get(url)\n",
    "sleep(1)\n",
    "soup = bs(driver.page_source, 'html.parser')"
   ],
   "outputs": [],
   "metadata": {}
  },
  {
   "cell_type": "code",
   "execution_count": 61,
   "source": [
    "db_games = soup.find('table', id='aoe2de-matches-table')\n",
    "for row in db_games.tbody.children:\n",
    "    cells = row.contents\n",
    "    game_data = {\n",
    "        'leaderboard': cells[0].contents[0],\n",
    "        'link': cells[0].a['href'],\n",
    "        'AVG rating': cells[1].text,\n",
    "        'Map':cells[3].text,\n",
    "        'Server':cells[4].text,\n",
    "        'Game Age':cells[5].text,\n",
    "    }\n",
    "    player_data = cells[2].contents\n",
    "    game_data['Game_Title'] = player_data[0].text\n",
    "    print(player_data[1].find_all('tr'))\n",
    "    break\n"
   ],
   "outputs": [
    {
     "output_type": "stream",
     "name": "stdout",
     "text": [
      "[<tr><td></td><td class=\"player-color player-color2 text-dark\">2</td><td class=\"player-civ\"><img alt=\"Britons\" height=\"25px\" src=\"/assets/images/crests/25x25/britons.png\" title=\"Britons\" width=\"25px\"/></td><td class=\"player-rating\">825</td><td class=\"player-name\"><a href=\"javascript:viewProfile('813780','76561198326413746','288283')\">jkarthik21</a></td><td class=\"game-vs\"><span class=\"text-light bg-dark\">VS</span></td><td></td><td class=\"player-color player-color1 text-dark\">1</td><td class=\"player-civ\"><img alt=\"Malians\" height=\"25px\" src=\"/assets/images/crests/25x25/malians.png\" title=\"Malians\" width=\"25px\"/></td><td class=\"player-rating\">821</td><td class=\"player-name\"><a href=\"javascript:viewProfile('813780',null,'999955')\">Patanco</a></td></tr>]\n"
     ]
    }
   ],
   "metadata": {}
  },
  {
   "cell_type": "code",
   "execution_count": null,
   "source": [],
   "outputs": [],
   "metadata": {}
  }
 ],
 "metadata": {
  "orig_nbformat": 4,
  "language_info": {
   "name": "python",
   "version": "3.7.10",
   "mimetype": "text/x-python",
   "codemirror_mode": {
    "name": "ipython",
    "version": 3
   },
   "pygments_lexer": "ipython3",
   "nbconvert_exporter": "python",
   "file_extension": ".py"
  },
  "kernelspec": {
   "name": "python3",
   "display_name": "Python 3.7.10 64-bit ('base': conda)"
  },
  "interpreter": {
   "hash": "b7dce63e39a4a8c98f5a1ef1e65571106e15efed32663927d397570964b86d03"
  }
 },
 "nbformat": 4,
 "nbformat_minor": 2
}