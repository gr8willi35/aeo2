{
 "cells": [
  {
   "cell_type": "code",
   "execution_count": 1,
   "source": [
    "import requests\n",
    "from bs4 import BeautifulSoup as bs\n",
    "from pymongo import MongoClient\n",
    "from time import sleep\n",
    "import pandas as pd\n",
    "from selenium import webdriver\n",
    "from selenium.webdriver.common.by import By"
   ],
   "outputs": [],
   "metadata": {}
  },
  {
   "cell_type": "code",
   "execution_count": 2,
   "source": [
    "client = MongoClient('localhost', 27017)\n",
    "db = client['aoe2']\n",
    "coll = db['games']"
   ],
   "outputs": [],
   "metadata": {}
  },
  {
   "cell_type": "code",
   "execution_count": 3,
   "source": [
    "driver = webdriver.Remote(\n",
    "    command_executor='http://localhost:4444/wd/hub',\n",
    "    desired_capabilities={\n",
    "        'browserName':'firefox',\n",
    "        'javascriptEnabled': True\n",
    "    }\n",
    ")\n",
    "url = 'https://aoe2.net/#aoe2de-matches-ongoing'"
   ],
   "outputs": [],
   "metadata": {}
  },
  {
   "cell_type": "code",
   "execution_count": 4,
   "source": [
    "driver.get(url)\n",
    "sleep(2)\n",
    "soup = bs(driver.page_source, 'html.parser')"
   ],
   "outputs": [],
   "metadata": {}
  },
  {
   "cell_type": "code",
   "execution_count": 5,
   "source": [
    "def parse_player_data(cells):\n",
    "    player_data = cells[2].contents\n",
    "    players = []\n",
    "    for player in player_data[1].find_all('td', class_='player-color'):\n",
    "        civ = player.next_sibling\n",
    "        rating = civ.next_sibling\n",
    "        player_name = rating.next_sibling\n",
    "        players.append({\n",
    "            'civ':civ.img['title'],\n",
    "            'rating':int(rating.text) if rating.text else '',\n",
    "            'Player_name': player_name.text,\n",
    "        })\n",
    "    return players"
   ],
   "outputs": [],
   "metadata": {}
  },
  {
   "cell_type": "code",
   "execution_count": 6,
   "source": [
    "def parse_game_data(cells):\n",
    "    game_data = {\n",
    "        'leaderboard': cells[0].contents[0],\n",
    "        'link': cells[0].a['href'],\n",
    "        'AVG rating': cells[1].text,\n",
    "        'Map':cells[3].text,\n",
    "        'Server':cells[4].text,\n",
    "        'Game Age':cells[5].text,\n",
    "        'Players':parse_player_data(cells)\n",
    "    }\n",
    "    return game_data"
   ],
   "outputs": [],
   "metadata": {}
  },
  {
   "cell_type": "code",
   "execution_count": null,
   "source": [
    "def flip_page(driver):\n",
    "    next_page = driver.find_element_by_id('aoe2de-matches-table_next')\n",
    "    next_page.click()"
   ],
   "outputs": [],
   "metadata": {}
  },
  {
   "cell_type": "code",
   "execution_count": 11,
   "source": [
    "def games_from_page(page):\n",
    "    games_table = page.find('table', id='aoe2de-matches-table')\n",
    "    game_list = []\n",
    "    while True:\n",
    "        next_page = driver.find_element_by_id('aoe2de-matches-table_next')\n",
    "        for row in games_table.tbody.children:\n",
    "            cells = row.contents\n",
    "            game_list.append(parse_game_data(cells))\n",
    "        if'disabled' in next_page.get_attribute('class'):\n",
    "            break\n",
    "        else:\n",
    "            next_page = driver.find_element_by_id('aoe2de-matches-table_next')\n",
    "            next_page.click()\n",
    "            sleep(2)\n",
    "    return game_list\n",
    "    "
   ],
   "outputs": [],
   "metadata": {}
  },
  {
   "cell_type": "code",
   "execution_count": 12,
   "source": [
    "coll.insert_many(games_from_page(soup))"
   ],
   "outputs": [
    {
     "output_type": "execute_result",
     "data": {
      "text/plain": [
       "<pymongo.results.InsertManyResult at 0x7fd7be6cceb0>"
      ]
     },
     "metadata": {},
     "execution_count": 12
    }
   ],
   "metadata": {}
  },
  {
   "cell_type": "code",
   "execution_count": 20,
   "source": [
    "next_page = driver.find_element_by_id('aoe2de-matches-table_next')"
   ],
   "outputs": [],
   "metadata": {}
  },
  {
   "cell_type": "code",
   "execution_count": 31,
   "source": [
    "coll.delete_many({})"
   ],
   "outputs": [
    {
     "output_type": "execute_result",
     "data": {
      "text/plain": [
       "<pymongo.results.DeleteResult at 0x7f1b4ae01aa0>"
      ]
     },
     "metadata": {},
     "execution_count": 31
    }
   ],
   "metadata": {}
  },
  {
   "cell_type": "code",
   "execution_count": 13,
   "source": [
    "coll.count_documents({})"
   ],
   "outputs": [
    {
     "output_type": "execute_result",
     "data": {
      "text/plain": [
       "1000"
      ]
     },
     "metadata": {},
     "execution_count": 13
    }
   ],
   "metadata": {}
  },
  {
   "cell_type": "code",
   "execution_count": null,
   "source": [],
   "outputs": [],
   "metadata": {}
  }
 ],
 "metadata": {
  "orig_nbformat": 4,
  "language_info": {
   "name": "python",
   "version": "3.7.10",
   "mimetype": "text/x-python",
   "codemirror_mode": {
    "name": "ipython",
    "version": 3
   },
   "pygments_lexer": "ipython3",
   "nbconvert_exporter": "python",
   "file_extension": ".py"
  },
  "kernelspec": {
   "name": "python3",
   "display_name": "Python 3.7.10 64-bit ('base': conda)"
  },
  "interpreter": {
   "hash": "b7dce63e39a4a8c98f5a1ef1e65571106e15efed32663927d397570964b86d03"
  }
 },
 "nbformat": 4,
 "nbformat_minor": 2
}